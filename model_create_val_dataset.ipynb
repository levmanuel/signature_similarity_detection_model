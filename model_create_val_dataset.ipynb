{
 "cells": [
  {
   "cell_type": "markdown",
   "metadata": {},
   "source": [
    "# signature"
   ]
  },
  {
   "cell_type": "code",
   "execution_count": 1,
   "metadata": {},
   "outputs": [],
   "source": [
    "import os\n",
    "import numpy as np\n",
    "import tensorflow as tf\n",
    "import itertools\n",
    "import pandas as pd"
   ]
  },
  {
   "cell_type": "code",
   "execution_count": 2,
   "metadata": {},
   "outputs": [],
   "source": [
    "root_dir = './data/validation_signature/'\n",
    "img_size = (128, 128)  # Taille standard pour les images\n",
    "data = []\n",
    "\n",
    "# Extensions d'images valides\n",
    "valid_extensions = ('.png', '.jpg', '.jpeg', '.bmp', '.tiff')\n",
    "\n",
    "# Parcours des sous-dossiers (chaque sous-dossier correspond à une personne)\n",
    "for person_dir in os.listdir(root_dir):\n",
    "    person_path = os.path.join(root_dir, person_dir)\n",
    "    \n",
    "    if os.path.isdir(person_path):\n",
    "        # Récupérer toutes les signatures dans le sous-dossier avec une extension valide\n",
    "        signatures = [s for s in os.listdir(person_path) if s.lower().endswith(valid_extensions)]\n",
    "        signatures_paths = [os.path.join(person_path, s) for s in signatures]\n",
    "        \n",
    "        # Créer des paires positives (intra-personne)\n",
    "        for pair in itertools.combinations(signatures_paths, 2):\n",
    "            data.append({\n",
    "                'image_1': pair[0],\n",
    "                'image_2': pair[1],\n",
    "                'label': 1  # Similaire (même personne)\n",
    "            })\n",
    "\n",
    "all_person_dirs = [os.path.join(root_dir, d) for d in os.listdir(root_dir) if os.path.isdir(os.path.join(root_dir, d))]\n",
    "\n",
    "for person_1, person_2 in itertools.combinations(all_person_dirs, 2):\n",
    "    signatures_person_1 = [s for s in os.listdir(person_1) if s.lower().endswith(valid_extensions)]\n",
    "    signatures_person_2 = [s for s in os.listdir(person_2) if s.lower().endswith(valid_extensions)]\n",
    "    \n",
    "    for sig1, sig2 in itertools.product(signatures_person_1, signatures_person_2):\n",
    "        data.append({\n",
    "            'image_1': os.path.join(person_1, sig1),\n",
    "            'image_2': os.path.join(person_2, sig2),\n",
    "            'label': 0  # Différent (personnes différentes)\n",
    "        })\n",
    "\n",
    "df = pd.DataFrame(data)\n",
    "df.to_csv('signature_pairs_validation.csv', sep=\";\", index=False)"
   ]
  }
 ],
 "metadata": {
  "kernelspec": {
   "display_name": "Python 3",
   "language": "python",
   "name": "python3"
  },
  "language_info": {
   "codemirror_mode": {
    "name": "ipython",
    "version": 3
   },
   "file_extension": ".py",
   "mimetype": "text/x-python",
   "name": "python",
   "nbconvert_exporter": "python",
   "pygments_lexer": "ipython3",
   "version": "3.11.1"
  }
 },
 "nbformat": 4,
 "nbformat_minor": 2
}
